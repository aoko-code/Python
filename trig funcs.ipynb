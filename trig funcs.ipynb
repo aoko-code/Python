{
 "cells": [
  {
   "cell_type": "code",
   "execution_count": 5,
   "id": "90a55051",
   "metadata": {},
   "outputs": [
    {
     "name": "stdout",
     "output_type": "stream",
     "text": [
      "[0.0000000e+00 1.0000000e+00 1.2246468e-16]\n",
      "[ 1.000000e+00  6.123234e-17 -1.000000e+00]\n",
      "[ 0.00000000e+00  1.63312394e+16 -1.22464680e-16]\n"
     ]
    }
   ],
   "source": [
    "#trigonometric functions\n",
    "#array of angles\n",
    "import numpy as np\n",
    "theta = np.linspace(0, np.pi, 3)\n",
    "print(np.sin(theta))\n",
    "print(np.cos(theta))\n",
    "print(np.tan(theta))"
   ]
  },
  {
   "cell_type": "code",
   "execution_count": 6,
   "id": "f71d4ef4",
   "metadata": {},
   "outputs": [
    {
     "name": "stdout",
     "output_type": "stream",
     "text": [
      "[-1.57079633  0.          1.57079633]\n",
      "[3.14159265 1.57079633 0.        ]\n",
      "[-0.78539816  0.          0.78539816]\n"
     ]
    }
   ],
   "source": [
    "#inverse  trigonometry\n",
    "x = [-1, 0, 1]\n",
    "print(np.arcsin(x))\n",
    "print(np.arccos(x))\n",
    "print(np.arctan(x))"
   ]
  },
  {
   "cell_type": "code",
   "execution_count": 7,
   "id": "f179e021",
   "metadata": {},
   "outputs": [
    {
     "name": "stdout",
     "output_type": "stream",
     "text": [
      "[ 2.71828183  7.3890561  20.08553692]\n",
      "[2. 4. 8.]\n",
      "[ 3  9 27]\n"
     ]
    }
   ],
   "source": [
    "#exponentials\n",
    "x = [1, 2, 3]\n",
    "print(np.exp(x))\n",
    "print(np.exp2(x))\n",
    "print(np.power(3, x))"
   ]
  },
  {
   "cell_type": "code",
   "execution_count": 8,
   "id": "3780ac89",
   "metadata": {},
   "outputs": [
    {
     "name": "stdout",
     "output_type": "stream",
     "text": [
      "[0.         0.69314718 1.38629436 2.30258509]\n",
      "[0.         1.         2.         3.32192809]\n",
      "[0.         0.30103    0.60205999 1.        ]\n"
     ]
    }
   ],
   "source": [
    "#logarithms\n",
    "x = [1, 2, 4, 10]\n",
    "print(np.log(x))\n",
    "print(np.log2(x))\n",
    "print(np.log10(x))"
   ]
  },
  {
   "cell_type": "code",
   "execution_count": 9,
   "id": "516d9e69",
   "metadata": {},
   "outputs": [
    {
     "ename": "ModuleNotFoundError",
     "evalue": "No module named 'scipy'",
     "output_type": "error",
     "traceback": [
      "\u001b[1;31m---------------------------------------------------------------------------\u001b[0m",
      "\u001b[1;31mModuleNotFoundError\u001b[0m                       Traceback (most recent call last)",
      "Input \u001b[1;32mIn [9]\u001b[0m, in \u001b[0;36m<cell line: 2>\u001b[1;34m()\u001b[0m\n\u001b[0;32m      1\u001b[0m \u001b[38;5;66;03m#special ufuncs\u001b[39;00m\n\u001b[1;32m----> 2\u001b[0m \u001b[38;5;28;01mfrom\u001b[39;00m \u001b[38;5;21;01mscipy\u001b[39;00m \u001b[38;5;28;01mimport\u001b[39;00m special\n\u001b[0;32m      3\u001b[0m x \u001b[38;5;241m=\u001b[39m [\u001b[38;5;241m1\u001b[39m, \u001b[38;5;241m5\u001b[39m, \u001b[38;5;241m10\u001b[39m]\n\u001b[0;32m      4\u001b[0m \u001b[38;5;28mprint\u001b[39m(special\u001b[38;5;241m.\u001b[39mgamma(x))\n",
      "\u001b[1;31mModuleNotFoundError\u001b[0m: No module named 'scipy'"
     ]
    }
   ],
   "source": [
    "#special ufuncs\n",
    "from scipy import special\n",
    "x = [1, 5, 10]\n",
    "print(special.gamma(x))\n",
    "print(special.gammaln(x))\n",
    "print(special.beta(x, 2))"
   ]
  }
 ],
 "metadata": {
  "kernelspec": {
   "display_name": "Python 3 (ipykernel)",
   "language": "python",
   "name": "python3"
  },
  "language_info": {
   "codemirror_mode": {
    "name": "ipython",
    "version": 3
   },
   "file_extension": ".py",
   "mimetype": "text/x-python",
   "name": "python",
   "nbconvert_exporter": "python",
   "pygments_lexer": "ipython3",
   "version": "3.9.5"
  }
 },
 "nbformat": 4,
 "nbformat_minor": 5
}
