{
 "cells": [
  {
   "cell_type": "markdown",
   "id": "b199e8fd",
   "metadata": {},
   "source": [
    "# BINARY SEARCH"
   ]
  },
  {
   "cell_type": "markdown",
   "id": "df14691f",
   "metadata": {},
   "source": [
    "### Alice has some cards with numbers written on them . she arranges the cards in decreasing order and lays them out face down in a sequence on a table . she challenges Bob to pick out the card containing a given number by turning over a s few cards as possible. write a function to help Bob locate the card."
   ]
  },
  {
   "cell_type": "markdown",
   "id": "ee8d6a0e",
   "metadata": {},
   "source": [
    "####inputs\n",
    "cards: a list of numbers sorted in decreasing order eg [12, 11, 10, 6, 4, 3, 2]\n",
    "query: a number whose position in the array will be determined"
   ]
  },
  {
   "cell_type": "markdown",
   "id": "1d46a3ce",
   "metadata": {},
   "source": [
    "####output\n",
    "position: the position of the query in the list cards"
   ]
  },
  {
   "cell_type": "code",
   "execution_count": 3,
   "id": "d51d9758",
   "metadata": {},
   "outputs": [],
   "source": [
    "def locate_card(cards, query):\n",
    "    pass"
   ]
  },
  {
   "cell_type": "code",
   "execution_count": 8,
   "id": "40dd62ed",
   "metadata": {},
   "outputs": [],
   "source": [
    "#test case examples\n",
    "test = {\n",
    "    'input': {\n",
    "        'cards' : [13, 11, 10, 7, 4, 3, 1, 0],\n",
    "        'query' : 7\n",
    "    },\n",
    "    'output' : 3\n",
    "}\n",
    "\n"
   ]
  },
  {
   "cell_type": "code",
   "execution_count": 12,
   "id": "7aee2cef",
   "metadata": {},
   "outputs": [
    {
     "ename": "NameError",
     "evalue": "name 'test' is not defined",
     "output_type": "error",
     "traceback": [
      "\u001b[1;31m---------------------------------------------------------------------------\u001b[0m",
      "\u001b[1;31mNameError\u001b[0m                                 Traceback (most recent call last)",
      "Input \u001b[1;32mIn [12]\u001b[0m, in \u001b[0;36m<cell line: 2>\u001b[1;34m()\u001b[0m\n\u001b[0;32m      1\u001b[0m \u001b[38;5;66;03m#testing card\u001b[39;00m\n\u001b[1;32m----> 2\u001b[0m locate_card(\u001b[38;5;241m*\u001b[39m\u001b[38;5;241m*\u001b[39m\u001b[43mtest\u001b[49m[\u001b[38;5;124m'\u001b[39m\u001b[38;5;124minput\u001b[39m\u001b[38;5;124m'\u001b[39m]) \u001b[38;5;241m==\u001b[39m test[\u001b[38;5;124m'\u001b[39m\u001b[38;5;124moutput\u001b[39m\u001b[38;5;124m'\u001b[39m]\n",
      "\u001b[1;31mNameError\u001b[0m: name 'test' is not defined"
     ]
    }
   ],
   "source": [
    "#testing card\n",
    "locate_card(**test['input']) == test['output']"
   ]
  },
  {
   "cell_type": "code",
   "execution_count": null,
   "id": "4fabcfa6",
   "metadata": {},
   "outputs": [],
   "source": [
    "#result\n",
    "result = locate_card(cards, query)\n",
    "print(result)"
   ]
  }
 ],
 "metadata": {
  "kernelspec": {
   "display_name": "Python 3 (ipykernel)",
   "language": "python",
   "name": "python3"
  },
  "language_info": {
   "codemirror_mode": {
    "name": "ipython",
    "version": 3
   },
   "file_extension": ".py",
   "mimetype": "text/x-python",
   "name": "python",
   "nbconvert_exporter": "python",
   "pygments_lexer": "ipython3",
   "version": "3.9.5"
  }
 },
 "nbformat": 4,
 "nbformat_minor": 5
}
