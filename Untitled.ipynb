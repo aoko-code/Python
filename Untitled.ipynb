{
 "cells": [
  {
   "cell_type": "markdown",
   "id": "b199e8fd",
   "metadata": {},
   "source": [
    "# BINARY SEARCH"
   ]
  },
  {
   "cell_type": "markdown",
   "id": "df14691f",
   "metadata": {},
   "source": [
    "### Alice has some cards with numbers written on them . she arranges the cards in decreasing order and lays them out face down in a sequence on a table . she challenges Bob to pick out the card containing a given number by turning over a s few cards as possible. write a function to help Bob locate the card."
   ]
  },
  {
   "cell_type": "markdown",
   "id": "ee8d6a0e",
   "metadata": {},
   "source": [
    "####inputs\n",
    "cards: a list of numbers sorted in decreasing order eg [12, 11, 10, 6, 4, 3, 2]\n",
    "query: a number whose position in the array will be determined"
   ]
  },
  {
   "cell_type": "markdown",
   "id": "1d46a3ce",
   "metadata": {},
   "source": [
    "####output\n",
    "position: the position of the query in the list cards"
   ]
  },
  {
   "cell_type": "code",
   "execution_count": null,
   "id": "d51d9758",
   "metadata": {},
   "outputs": [],
   "source": [
    "def locate_card(cards, query):\n",
    "    pass"
   ]
  }
 ],
 "metadata": {
  "kernelspec": {
   "display_name": "Python 3 (ipykernel)",
   "language": "python",
   "name": "python3"
  },
  "language_info": {
   "codemirror_mode": {
    "name": "ipython",
    "version": 3
   },
   "file_extension": ".py",
   "mimetype": "text/x-python",
   "name": "python",
   "nbconvert_exporter": "python",
   "pygments_lexer": "ipython3",
   "version": "3.9.5"
  }
 },
 "nbformat": 4,
 "nbformat_minor": 5
}
